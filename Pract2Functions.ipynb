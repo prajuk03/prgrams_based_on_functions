{
 "cells": [
  {
   "cell_type": "code",
   "execution_count": 1,
   "id": "64807e28",
   "metadata": {},
   "outputs": [
    {
     "name": "stdout",
     "output_type": "stream",
     "text": [
      "praju 22\n"
     ]
    }
   ],
   "source": [
    "#demo is the function name\n",
    "def demo(name,age):\n",
    "    #print value\n",
    "    print(name,age)\n",
    "    \n",
    " # call function\n",
    "demo(\"praju\",22)"
   ]
  },
  {
   "cell_type": "code",
   "execution_count": 2,
   "id": "5f036073",
   "metadata": {},
   "outputs": [
    {
     "name": "stdout",
     "output_type": "stream",
     "text": [
      "\n",
      "1st output\n",
      "20\n",
      "30\n",
      "40\n",
      "\n",
      "1st output\n",
      "80\n",
      "100\n"
     ]
    }
   ],
   "source": [
    "def prajakta(*args):\n",
    "    for i in args:\n",
    "        print(i)\n",
    "\n",
    "print()\n",
    "print(\"1st output\")\n",
    "prajakta(20,30,40)\n",
    "\n",
    "print()\n",
    "print(\"1st output\")\n",
    "prajakta(80,100)"
   ]
  },
  {
   "cell_type": "code",
   "execution_count": 6,
   "id": "046a42d3",
   "metadata": {},
   "outputs": [
    {
     "name": "stdout",
     "output_type": "stream",
     "text": [
      "(50, 30)\n"
     ]
    }
   ],
   "source": [
    "def calculation(a, b):\n",
    "    addition = a + b\n",
    "    subtraction = a - b\n",
    "    #return multiple values separated by comma\n",
    "    return addition, subtraction\n",
    "\n",
    "#get result in tuple format\n",
    "res = calculation(40, 10)\n",
    "print(res)\n"
   ]
  },
  {
   "cell_type": "code",
   "execution_count": 7,
   "id": "e0264e4f",
   "metadata": {},
   "outputs": [
    {
     "name": "stdout",
     "output_type": "stream",
     "text": [
      "Name: Ben salary: 12000\n",
      "Name: jessa salary: 8000\n"
     ]
    }
   ],
   "source": [
    "#function with default argument\n",
    "def show_employee(name, salary=8000):\n",
    "    print(\"Name:\", name, \"salary:\", salary)\n",
    "    \n",
    "show_employee(\"Ben\",12000)\n",
    "show_employee(\"jessa\")\n"
   ]
  },
  {
   "cell_type": "code",
   "execution_count": 10,
   "id": "8a559116",
   "metadata": {},
   "outputs": [
    {
     "name": "stdout",
     "output_type": "stream",
     "text": [
      "75\n"
     ]
    }
   ],
   "source": [
    "#outer function\n",
    "def outer_fun(a, b):\n",
    "    square = a ** 2\n",
    "    \n",
    "    #inner function\n",
    "    def addition(a, b):\n",
    "        return a + b\n",
    "    \n",
    "    #call inner function from outer function\n",
    "    add = addition(a, b)\n",
    "    # add 5 to the result\n",
    "    return add + 5\n",
    "\n",
    "result = outer_fun(55,15)\n",
    "print(result)"
   ]
  },
  {
   "cell_type": "code",
   "execution_count": null,
   "id": "cc277c13",
   "metadata": {},
   "outputs": [],
   "source": []
  }
 ],
 "metadata": {
  "kernelspec": {
   "display_name": "Python 3 (ipykernel)",
   "language": "python",
   "name": "python3"
  },
  "language_info": {
   "codemirror_mode": {
    "name": "ipython",
    "version": 3
   },
   "file_extension": ".py",
   "mimetype": "text/x-python",
   "name": "python",
   "nbconvert_exporter": "python",
   "pygments_lexer": "ipython3",
   "version": "3.9.12"
  }
 },
 "nbformat": 4,
 "nbformat_minor": 5
}
